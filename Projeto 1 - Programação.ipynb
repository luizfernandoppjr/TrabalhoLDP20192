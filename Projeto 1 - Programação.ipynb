{
 "cells": [
  {
   "cell_type": "code",
   "execution_count": 48,
   "metadata": {},
   "outputs": [],
   "source": [
    "#TUTORIAL DATA FRAME"
   ]
  },
  {
   "cell_type": "code",
   "execution_count": 49,
   "metadata": {},
   "outputs": [],
   "source": [
    "import pandas as pd"
   ]
  },
  {
   "cell_type": "code",
   "execution_count": 50,
   "metadata": {
    "scrolled": true
   },
   "outputs": [
    {
     "name": "stdout",
     "output_type": "stream",
     "text": [
      "    Name  Age\n",
      "0    Tom   20\n",
      "1   nick   21\n",
      "2  krish   19\n",
      "3   jack   18\n"
     ]
    }
   ],
   "source": [
    "# Python code demonstrate creating \n",
    "# DataFrame from dict narray / lists \n",
    "# By default addresses.\n",
    "\n",
    "# intialise data of lists.\n",
    "data = {'Name':['Tom', 'nick', 'krish', 'jack'],\n",
    "        'Age':[20, 21, 19, 18]}\n",
    " \n",
    "# Create DataFrame\n",
    "df = pd.DataFrame(data)\n",
    " \n",
    "# Print the output.\n",
    "print(df)"
   ]
  },
  {
   "cell_type": "code",
   "execution_count": 51,
   "metadata": {},
   "outputs": [
    {
     "name": "stdout",
     "output_type": "stream",
     "text": [
      "     Name Qualification\n",
      "0     Jai           Msc\n",
      "1  Princi            MA\n",
      "2  Gaurav           MCA\n",
      "3    Anuj           Phd\n"
     ]
    }
   ],
   "source": [
    "# Import pandas package\n",
    "import pandas as pd\n",
    " \n",
    "# Define a dictionary containing employee data\n",
    "data = {'Name':['Jai', 'Princi', 'Gaurav', 'Anuj'],\n",
    "        'Age':[27, 24, 22, 32],\n",
    "        'Address':['Delhi', 'Kanpur', 'Allahabad', 'Kannauj'],\n",
    "        'Qualification':['Msc', 'MA', 'MCA', 'Phd']}\n",
    " \n",
    "# Convert the dictionary into DataFrame \n",
    "df = pd.DataFrame(data)\n",
    " \n",
    "# select two columns\n",
    "print(df[['Name', 'Qualification']])"
   ]
  },
  {
   "cell_type": "code",
   "execution_count": 52,
   "metadata": {},
   "outputs": [],
   "source": [
    "#TUTORIAL CLASS"
   ]
  },
  {
   "cell_type": "code",
   "execution_count": 53,
   "metadata": {},
   "outputs": [],
   "source": [
    "class Car(object):\n",
    "  \"\"\"\n",
    "    blueprint for car\n",
    "  \"\"\"\n",
    "\n",
    "  def __init__(self, model, color, company, speed_limit):\n",
    "    self.color = color\n",
    "    self.company = company\n",
    "    self.speed_limit = speed_limit\n",
    "    self.model = model\n",
    "\n",
    "  def start(self):\n",
    "    print(\"started\")\n",
    "\n",
    "  def stop(self):\n",
    "    print(\"stopped\")\n",
    "\n",
    "  def accelarate(self):\n",
    "    print(\"accelarating...\")\n",
    "    \"accelarator functionality here\"\n",
    "\n",
    "  def change_gear(self, gear_type):\n",
    "    print(\"gear changed\")\n",
    "    \" gear related functionality here\""
   ]
  },
  {
   "cell_type": "code",
   "execution_count": 54,
   "metadata": {},
   "outputs": [],
   "source": [
    "maruthi_suzuki = Car(\"ertiga\", \"black\", \"suzuki\", 60)\n",
    "audi = Car(\"A6\", \"red\", \"audi\", 80)"
   ]
  },
  {
   "cell_type": "code",
   "execution_count": 55,
   "metadata": {},
   "outputs": [
    {
     "name": "stdout",
     "output_type": "stream",
     "text": [
      "Area of Rectangle: 19200 cm^2\n",
      "Cost of rectangular field: Rs. 38400000 \n"
     ]
    }
   ],
   "source": [
    "class Rectangle:\n",
    "   def __init__(self, length, breadth, unit_cost=0):\n",
    "       self.length = length\n",
    "       self.breadth = breadth\n",
    "       self.unit_cost = unit_cost\n",
    "   \n",
    "   def get_perimeter(self):\n",
    "       return 2 * (self.length + self.breadth)\n",
    "   \n",
    "   def get_area(self):\n",
    "       return self.length * self.breadth\n",
    "   \n",
    "   def calculate_cost(self):\n",
    "       area = self.get_area()\n",
    "       return area * self.unit_cost\n",
    "# breadth = 120 cm, length = 160 cm, 1 cm^2 = Rs 2000\n",
    "r = Rectangle(160, 120, 2000)\n",
    "print(\"Area of Rectangle: %s cm^2\" % (r.get_area()))\n",
    "print(\"Cost of rectangular field: Rs. %s \" %(r.calculate_cost()))"
   ]
  },
  {
   "cell_type": "code",
   "execution_count": 56,
   "metadata": {},
   "outputs": [],
   "source": [
    "#ABRINDO ARQUIVO"
   ]
  },
  {
   "cell_type": "code",
   "execution_count": 2,
   "metadata": {},
   "outputs": [
    {
     "name": "stdout",
     "output_type": "stream",
     "text": [
      "125\n"
     ]
    }
   ],
   "source": [
    "#def ler arquivo\n",
    "def ler_arquivo ():\n",
    "\n",
    "    list_df = list()\n",
    "    \n",
    "    #Usando o pip install panda_ods_reader\n",
    "    from pandas_ods_reader import read_ods\n",
    "\n",
    "    #path = nome do arquivo\n",
    "    path = \"pnad_2014_educacao_profissional.ods\"\n",
    "\n",
    "    #comando para ler todos os sheets do arquivo (tem 125 sheets, se colocar mais que isso o código da erro)\n",
    "    for i in range(0,125):\n",
    "        sheet_idx = i\n",
    "        i+=1\n",
    "        \n",
    "        #retorno o arquivo\n",
    "        df = read_ods(path, sheet_idx)\n",
    "        list_df.append(df)\n",
    "    \n",
    "    print(len(list_df))\n",
    "    return list_df\n",
    "\n",
    "#testando quantos sheets o arquivo tem\n",
    "output = ler_arquivo()"
   ]
  },
  {
   "cell_type": "code",
   "execution_count": 3,
   "metadata": {},
   "outputs": [],
   "source": [
    "# import pandas as pd\n",
    "import pandas as pd\n",
    " \n",
    "# list of strings\n",
    "data = output[15]\n",
    "\n",
    "# Calling DataFrame constructor on list\n",
    "df = pd.DataFrame(data)\n"
   ]
  },
  {
   "cell_type": "code",
   "execution_count": null,
   "metadata": {},
   "outputs": [],
   "source": []
  },
  {
   "cell_type": "code",
   "execution_count": 59,
   "metadata": {},
   "outputs": [],
   "source": [
    "#DEFININDO CLASSE"
   ]
  },
  {
   "cell_type": "code",
   "execution_count": 63,
   "metadata": {},
   "outputs": [],
   "source": [
    "class popteste():\n",
    "    def __init__(self, idade, sexo, cor, renda):\n",
    "        self.idade = idade\n",
    "        self.sexo = sexo\n",
    "        self.cor = cor\n",
    "        self.renda = renda\n",
    "        \n",
    "pop1 = popteste(15,'Homens','Branco','Mais de 20 salários mínimos')"
   ]
  },
  {
   "cell_type": "code",
   "execution_count": 61,
   "metadata": {},
   "outputs": [],
   "source": [
    "class pop():\n",
    "    def __init__(self, rendimento_mensal_domiciliar, rede_ensino, modalidade, sexo, cor, regiao, idade):\n",
    "        \n",
    "        #rendimento mensal - X salários mínimos\n",
    "        self.rendimento_mensal_domiciliar = rendimento_mensal\n",
    "        \n",
    "        #rede de ensino - pública ou privada\n",
    "        self.rede_ensino = rede_ensino\n",
    "        \n",
    "        #modalidade - presencial ou distância\n",
    "        self.modalidade = modalidade\n",
    "        \n",
    "        #sexo - homens x mulheres\n",
    "        self.sexo = sexo\n",
    "        \n",
    "        #cor - branco x negro\n",
    "        self.cor = cor\n",
    "        \n",
    "        #regiao - norte, nordeste, centro-oeste, sudeste, sul\n",
    "        self.regiao = regiao\n",
    "        \n",
    "        #idade\n",
    "        self.idade = idade\n",
    "        \n",
   ]
  },
  {
   "cell_type": "code",
   "execution_count": 62,
   "metadata": {},
   "outputs": [],
   "source": []
  },
  {
   "cell_type": "code",
   "execution_count": null,
   "metadata": {},
   "outputs": [],
   "source": []
  },
  {
   "cell_type": "code",
   "execution_count": null,
   "metadata": {},
   "outputs": [],
   "source": []
  }
 ],
 "metadata": {
  "kernelspec": {
   "display_name": "Python 3",
   "language": "python",
   "name": "python3"
  },
  "language_info": {
   "codemirror_mode": {
    "name": "ipython",
    "version": 3
   },
   "file_extension": ".py",
   "mimetype": "text/x-python",
   "name": "python",
   "nbconvert_exporter": "python",
   "pygments_lexer": "ipython3",
   "version": "3.6.5"
  }
 },
 "nbformat": 4,
 "nbformat_minor": 2
}
